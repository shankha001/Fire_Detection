{
 "cells": [
  {
   "cell_type": "code",
   "execution_count": null,
   "id": "75a69c56",
   "metadata": {},
   "outputs": [
    {
     "name": "stdout",
     "output_type": "stream",
     "text": [
      " * Serving Flask app '__main__' (lazy loading)\n",
      " * Environment: production\n",
      "\u001b[31m   WARNING: This is a development server. Do not use it in a production deployment.\u001b[0m\n",
      "\u001b[2m   Use a production WSGI server instead.\u001b[0m\n",
      " * Debug mode: off\n"
     ]
    },
    {
     "name": "stderr",
     "output_type": "stream",
     "text": [
      " * Running on http://127.0.0.1:5000/ (Press CTRL+C to quit)\n",
      "127.0.0.1 - - [27/Apr/2022 22:32:09] \"GET / HTTP/1.1\" 200 -\n",
      "127.0.0.1 - - [27/Apr/2022 22:32:22] \"POST /submit HTTP/1.1\" 200 -\n",
      "127.0.0.1 - - [27/Apr/2022 22:32:22] \"GET /static/predict1.jpg HTTP/1.1\" 200 -\n"
     ]
    }
   ],
   "source": [
    "from flask import Flask, render_template, request\n",
    "from tensorflow.keras.models import load_model\n",
    "from tensorflow.keras.preprocessing import image\n",
    "import tensorflow as tf\n",
    "\n",
    "app = Flask(__name__)\n",
    " \n",
    "dic = {0 : 'Fire', 1 : 'NoFire'}\n",
    "\n",
    "model = load_model('Models/resnetmodel.h5')\n",
    "\n",
    "model.make_predict_function()\n",
    "\n",
    "def predict_label(img_path):\n",
    "    img = image.load_img(img_path)\n",
    "    img = image.img_to_array(img)/255\n",
    "    img = tf.image.resize(img,(256,256))\n",
    "    img = tf.expand_dims(img,axis=0)\n",
    "    p=int(tf.round(model.predict(x=img)).numpy()[0][0])\n",
    "    return dic[p]\n",
    "\n",
    "\n",
    "# routes\n",
    "@app.route(\"/\", methods=['GET', 'POST'])\n",
    "def main():\n",
    "    return render_template(\"index.html\")\n",
    "\n",
    "@app.route(\"/submit\", methods = ['GET', 'POST'])\n",
    "def get_output():\n",
    "    if request.method == 'POST':\n",
    "        img = request.files['my_image']\n",
    "        img_path = \"static/\" + img.filename\t\n",
    "        img.save(img_path)\n",
    "        p = predict_label(img_path)\n",
    "\n",
    "    return render_template(\"index.html\", prediction = p, img_path = img_path)\n",
    "# main driver function\n",
    "if __name__ == '__main__':\n",
    "\n",
    "    app.run()"
   ]
  },
  {
   "cell_type": "code",
   "execution_count": null,
   "id": "4dcf332c",
   "metadata": {},
   "outputs": [],
   "source": []
  }
 ],
 "metadata": {
  "kernelspec": {
   "display_name": "Python 3 (ipykernel)",
   "language": "python",
   "name": "python3"
  },
  "language_info": {
   "codemirror_mode": {
    "name": "ipython",
    "version": 3
   },
   "file_extension": ".py",
   "mimetype": "text/x-python",
   "name": "python",
   "nbconvert_exporter": "python",
   "pygments_lexer": "ipython3",
   "version": "3.9.7"
  }
 },
 "nbformat": 4,
 "nbformat_minor": 5
}
